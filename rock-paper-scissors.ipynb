{
 "cells": [
  {
   "cell_type": "code",
   "execution_count": 16,
   "id": "ac33f760-8529-4139-a78d-e5c0bff52855",
   "metadata": {},
   "outputs": [],
   "source": [
    "import random"
   ]
  },
  {
   "cell_type": "code",
   "execution_count": 25,
   "id": "742c9e98-2fbd-4bdd-bd75-2ad389cff31e",
   "metadata": {},
   "outputs": [
    {
     "name": "stdin",
     "output_type": "stream",
     "text": [
      "Enter a choice ( rock, paper, scissors ): paper\n"
     ]
    }
   ],
   "source": [
    "user_action = input(\"Enter a choice ( rock, paper, scissors ):\")"
   ]
  },
  {
   "cell_type": "code",
   "execution_count": 26,
   "id": "4cc2ce76-3396-491f-b148-59646544b50c",
   "metadata": {},
   "outputs": [],
   "source": [
    "possible_actions = [\"rock\", \"paper\", \"scissors\"]\n",
    "computer_action = random.choice(possible_actions)"
   ]
  },
  {
   "cell_type": "code",
   "execution_count": 27,
   "id": "8e8963f9-24a5-4f2f-be46-c28158e89996",
   "metadata": {},
   "outputs": [
    {
     "name": "stdout",
     "output_type": "stream",
     "text": [
      "\n",
      "You chose paper, computer chose rock.\n",
      "\n"
     ]
    }
   ],
   "source": [
    "print(f\"\\nYou chose {user_action}, computer chose {computer_action}.\\n\")"
   ]
  },
  {
   "cell_type": "code",
   "execution_count": 28,
   "id": "68815761-9024-4865-9f16-071aeccfa11b",
   "metadata": {},
   "outputs": [
    {
     "name": "stdout",
     "output_type": "stream",
     "text": [
      "You win!\n"
     ]
    }
   ],
   "source": [
    "if user_action == computer_action:\n",
    "    print(f\"Both players selected {user_action}. It's a tie!\")\n",
    "elif user_action == \"rock\":\n",
    "    if computer_action == \"scissors\":\n",
    "        print(\"You win!\")\n",
    "    else:\n",
    "        print(\"You lose.\")\n",
    "elif user_action == \"paper\":\n",
    "    if computer_action == \"rock\":\n",
    "        print(\"You win!\")\n",
    "    else:\n",
    "        print(\"You lose.\")\n",
    "elif user_action == \"scissors\":\n",
    "    if computer_action == \"paper\":\n",
    "        print(\"You win!\")\n",
    "    else:\n",
    "        print(\"You lose.\")"
   ]
  },
  {
   "cell_type": "code",
   "execution_count": null,
   "id": "b695f94b-34ef-42b8-8b11-dff356b1c0cc",
   "metadata": {},
   "outputs": [],
   "source": []
  }
 ],
 "metadata": {
  "kernelspec": {
   "display_name": "Python 3 (ipykernel)",
   "language": "python",
   "name": "python3"
  },
  "language_info": {
   "codemirror_mode": {
    "name": "ipython",
    "version": 3
   },
   "file_extension": ".py",
   "mimetype": "text/x-python",
   "name": "python",
   "nbconvert_exporter": "python",
   "pygments_lexer": "ipython3",
   "version": "3.11.7"
  }
 },
 "nbformat": 4,
 "nbformat_minor": 5
}
