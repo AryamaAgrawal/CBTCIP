{
 "cells": [
  {
   "cell_type": "code",
   "execution_count": 12,
   "id": "36b8a027-2d1c-4343-a28d-29a2fea3a189",
   "metadata": {},
   "outputs": [],
   "source": [
    "import random"
   ]
  },
  {
   "cell_type": "code",
   "execution_count": 13,
   "id": "b716e5bd-2481-40b1-97c6-587dc91fc9f7",
   "metadata": {},
   "outputs": [],
   "source": [
    "num = random.randrange(1000,10000)"
   ]
  },
  {
   "cell_type": "code",
   "execution_count": 14,
   "id": "67b1d805-a2ed-4e1c-aedf-ea9d5bac8432",
   "metadata": {},
   "outputs": [
    {
     "name": "stdin",
     "output_type": "stream",
     "text": [
      "Guess the four digit number: 2612\n"
     ]
    }
   ],
   "source": [
    "n = int(input(\"Guess the four digit number:\"))"
   ]
  },
  {
   "cell_type": "code",
   "execution_count": null,
   "id": "a1521f86-60d0-4235-b5bc-61625d3f6c63",
   "metadata": {},
   "outputs": [
    {
     "name": "stdout",
     "output_type": "stream",
     "text": [
      "Not quite the number. But you did get 1 digit(s) correct!\n"
     ]
    }
   ],
   "source": [
    "if (n == num):\n",
    "    print(\"Great! You guessed the number in just 1 try! YOU'RE A MASTERMIND!\")\n",
    "else:\n",
    "    ctr = 0\n",
    "    while (n!=num):\n",
    "        ctr = ctr + 1\n",
    "        count = 0\n",
    "        n = str(n)\n",
    "        num = str(num)\n",
    "        correct = [\"X\"]*4\n",
    "        for i in range(0,4):\n",
    "            if(n[i] == num[i]):\n",
    "                count = count + 1\n",
    "                correct[i] = n[i]\n",
    "            else:\n",
    "                continue\n",
    "        print(\"Not quite the number. But you did get\",count, \"digit(s) correct!\")\n",
    "        n = int(input(\"Enter your next choice of numbers:\"))\n",
    "\n",
    "        if (count == 0):\n",
    "            print(\"None of the numbers in your input match.\")\n",
    "            n = int(input(\"Enter your next choice of numbers: \"))\n",
    "    if n == num:\n",
    "        ctr = ctr + 1\n",
    "        print(\"You've become s Mastermind!\")\n",
    "        print(\"It took you only \", ctr, \" tries.\")\n",
    "        \n",
    "        \n",
    "\n"
   ]
  },
  {
   "cell_type": "code",
   "execution_count": null,
   "id": "a8807dd1-b1a6-40a7-adbb-2290b954110c",
   "metadata": {},
   "outputs": [],
   "source": []
  }
 ],
 "metadata": {
  "kernelspec": {
   "display_name": "Python 3 (ipykernel)",
   "language": "python",
   "name": "python3"
  },
  "language_info": {
   "codemirror_mode": {
    "name": "ipython",
    "version": 3
   },
   "file_extension": ".py",
   "mimetype": "text/x-python",
   "name": "python",
   "nbconvert_exporter": "python",
   "pygments_lexer": "ipython3",
   "version": "3.11.7"
  }
 },
 "nbformat": 4,
 "nbformat_minor": 5
}
